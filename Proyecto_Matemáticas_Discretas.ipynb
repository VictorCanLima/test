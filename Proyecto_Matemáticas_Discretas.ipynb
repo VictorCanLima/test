{
  "cells": [
    {
      "cell_type": "markdown",
      "metadata": {
        "id": "BIhYEP-hhfH6",
        "colab_type": "text"
      },
      "source": [
        "# **Algoritmos Elementales con Grafos**\n",
        "## Reporte práctico experimental - Unidad 5\n",
        "\n",
        "\n",
        "En este trabajo se muestra la programación y el análisis de 5 algoritmos relaionados a la unidad 5, estos son la representación de grafos, la búsqueda en anchura, la búsqueda en profundidad, el algoritmo de Kruskal y el algoritmo de Prim.\n"
      ]
    },
    {
      "cell_type": "markdown",
      "metadata": {
        "id": "XYMQcEn2GAGF",
        "colab_type": "text"
      },
      "source": [
        "### **Creación y construcción de grafos**\n",
        "#### Planteamiento del problema\n",
        "El problema a resolver para la creación de grafos es conseguir una abstracción útil de un grafo cualquiera, este puede ser dirigido, no dirigido, con pesos en las aristas o sin ellos. Esta abstracción debe facilitar la aplicación de otros algoritmos para obtener información, como son la búsqued aen anchura, la búsqueda en profundidad o la obtención de un árbol recubridor mínimo. \n",
        "#### Solución propuesta\n",
        "La solución propuesta es la creación de un conjunto de clases que de cierta manera imite a una lista de adjacencias, con algunas alteraciones en su estructura, para facilitar la manipulación del grafo al momento de aplicarsele algun otro algoritmo como los mencionados anteriormente.\n",
        "#### Definición del problema\n",
        "Para poder llevar a cabo la solución propuesta, es necesario crear dos clases, la clase *Graph*, cuya instancia se encargará de representar la estructura general de un grafo, y la clase *Node*, cuyas instancias representarán a los vertices y serán organizadas e instanseadas por un objeto de la clase Grafo.\n",
        "En la figura anterior es posible observar el diagrama de clase que ilustra la forma en que la clase *Graph* y la clase *Node* formaran la estructura completa de un grafo. La clase *Node* carece de métodos, se compone del atributo *name*, que será el id del nodo, es el argumento de entrada necesario para hacer una instancia de la clase; el atributo *links* guardará una lista de todos los vertices adyacentes; el atributo *state* servirá durante la aplicación de algunos algoritmos sobre el grafo; por otro lado los atributos *tier* y *time_stamps* son atributos necesarios para los algoritmos de búsqueda en anchura y búsqueda en profundidad, respectivamene. ![](https://drive.google.com/uc?id=1Fjt2BCJYvS58sp67cDi42dOgcCkSoAgo)\n",
        "Del otro lado tenemos a la clase *Graph*, en ésta, el atributo *adj_list* contiene a todos los vertices que constituyen al grafo, estos serán instancias de *Node*; para obtener tal lista se utiliza el método *create_AdjList*, que utiliza los atributos *V* y *E* para crear los nodos y organizarlos; *V* y *E* reciben a los argumenos de entrada para inicializar un Grafo, el primer atributo recibe una lista con los nombres de odos los nodos, el segundo recibe una lista de listas, cada sub lista debe contener 3 elementos, el primero es un nodo N, el segundo es el nodo M al que apunta N, el tercero es el peso de esa arista. En caso de inicializar un grafo sin tales argumentos de entrada, el grafo iniciará vacío, sin vertices. Los métodos *Add_v* y *Add_e* permiten añadir a *V* y a *E* elementos. El método *create_AdjList* debe ser llamado siempre que se actualice *V* y *E*. Por último el atributo time es utilizado durante la aplicación del algoritmo de búsqueda en profundidad. El atributo *root* es útil en caso de que el grafo sea un árbol, éste apuntará al nodo de *adj_list* que éste definido como el comienzo o la raíz del árbol. Por último, el método *print_AdjList* permite mostrar la lista de adjacencias del grafo creado.\\\\\n",
        "La idea con esta forma de representar un grafo es poder navegar a través del mismo utilizando el atributo *adj_list*, que permite acceder a cualquiera de los vertices, o *root* en caso de trabajar con árboles. Este concepto permite representar todo tipo de grafos, dirigidos, no dirigidos, árboles y grafos ponderados. A continuación se muestra el pseudocódigo de la clase Graph y la clase Node.\n"
      ]
    },
    {
      "cell_type": "markdown",
      "metadata": {
        "id": "ydKRpjFPOOZ-",
        "colab_type": "text"
      },
      "source": [
        "```\n",
        "class Node\n",
        "  constructor(who)\n",
        "    name is who\n",
        "    links is []\n",
        "    state is NULL\n",
        "    tier is 0\n",
        "    time_stamps is [0,0]\n",
        "class Graph\n",
        "  constructor(vert is [],edg is [])\n",
        "    adj_list is []\n",
        "    V is vert\n",
        "    E is edg \n",
        "    root is None\n",
        "    time is 0\n",
        "  create_AdjList()   //create adjacency list based on V and E\n",
        "    if V is not empty\n",
        "      for each id from V\n",
        "        create new Node(id) node\n",
        "        add node to adj_list\n",
        "      for each e from E\n",
        "        for each v from adj_list\n",
        "          if first id of e is name of v\n",
        "            for each u from adj_list\n",
        "              if second id of e is name of u\n",
        "                add [u, weight in e] to links\n",
        "  Add_v(v)          //add new vertex to V\n",
        "    if V is not empty \n",
        "      for each u from V\n",
        "        if u is v\n",
        "          repeated\n",
        "    if not repeated\n",
        "        add v to V\n",
        "  Add_e(e)           //Add new edge to E, between 2 vertex in V \n",
        "    if E is not empty\n",
        "      for each c from E\n",
        "        if c is e\n",
        "          repeated\n",
        "    if not repeated\n",
        "        add e to E\n",
        "  print_AdjList()    //Show adjacency list      \n",
        "    if adj_list is not empty\n",
        "      for each p in 0 to length of adj_list\n",
        "        show name of adj_list[p]\n",
        "        for each l from links of adj_list[p]\n",
        "          show l\n",
        "```\n",
        "Con respcecto al tiempo de ejecución, hay uno distinto para cada método. El tiempo de ejecución para el método *create_AdList* tiene un tiempo de ejecución de $O(|V|\\cdot|E|)$, debido a que por cada arista en *E* es necesario revisar la combinación de vertices que la compone, en el peor de los casos todos los vertices estarán conectados con todos, incluyendose a sí mismos, volviendose entonces equivalente a $O(|V|^4)$, pues en *E*, la conexión de todos los nodos con todos, supondría un total de $|V|^2$ elementos, para la comparación de cada conjunto de coordenadas *e*, se utilizan dos ciclos anidados que  recorren todos los vertices, es decir $|V|^2$ comparaciones. Para *Add_v*, su tiempo de ejecución es de $O(|V|)$, solo para revisar que no se añadan vertices repetidos, analogamente sucede lo mismo con *Add_e*, con un tiempo de ejecución de $O(|E|)$ el cual es igual a $O(|V|^2)$ si todos los vertices están conectados con todos, por lo que se explicó anteriormente. Por último para *print_AdjList* el peor tiempo de ejecución posible es $O(|V|^2)$, en el caso de que cada vertice sea adyacente a todos los vertices dentro del grafo, inclusive sí mismo. \\\\\n",
        "A continuación aparece el código escrito en Python 3, seguido de éste se encuentra un conjunto de listas de vertices y aristas, así como instrucciones para crear 3 grafos a partir de tales conjuntos."
      ]
    },
    {
      "cell_type": "markdown",
      "metadata": {
        "colab_type": "text",
        "id": "eBTNyyzxhbXt"
      },
      "source": [
        "### Graph creation"
      ]
    },
    {
      "cell_type": "code",
      "metadata": {
        "id": "eTb5cJL4GLKw",
        "colab_type": "code",
        "outputId": "49763b4a-a660-4af9-ca52-7f9d43590a80",
        "colab": {
          "base_uri": "https://localhost:8080/",
          "height": 2941
        }
      },
      "source": [
        "class Node:\n",
        "  def __init__(self,who): #Inicialización de un objeto nodo\n",
        "    self.name = who\n",
        "    self.data = None\n",
        "    self.links = []\n",
        "    self.state = None\n",
        "    self.tier = 0\n",
        "    self.time_stamps = [0,0]\n",
        "\n",
        "class Graph: \n",
        "  def __init__(self,vert=[],edg=[]):#Inicialización de un objeto Grafo\n",
        "    self.adj_list = []\n",
        "    self.V = vert\n",
        "    self.E = edg \n",
        "    self.root = None\n",
        "    self.time = 0\n",
        "  def create_AdjList(self): #Creación de lista de adyacencia a partir de sus listas de vertices y aristas, si existen elementos en estas listas\n",
        "    if self.V:\n",
        "      for i in self.V:\n",
        "        node = Node(i)\n",
        "        print(\"Nuevo nodo con id \",i)\n",
        "        self.adj_list.append(node)\n",
        "      for i in self.E:\n",
        "        for j in self.adj_list:\n",
        "          if i[0] is j.name:\n",
        "            for k in self.adj_list:\n",
        "              if i[1] is k.name:\n",
        "                print(\"Nodo \",j.name,\" apunta a \",k.name)\n",
        "                j.links.append([k,i[2]])\n",
        "  def Add_v(self,v): #Agregación de un elemento a V\n",
        "    check = True\n",
        "    if self.V:\n",
        "      for i in self.V:\n",
        "        if i == v:\n",
        "          check = False\n",
        "    if check:\n",
        "        self.V.append(v)\n",
        "  def Add_e(self,e): #Agregación de un elemento a E\n",
        "    check = True\n",
        "    if self.E:\n",
        "      for i in self.E:\n",
        "        if i == e:\n",
        "          check = False\n",
        "    if check:\n",
        "        self.E.append(e)\n",
        "  def print_AdjList(self): #Función para mostrar la lista de adyacencia si esta ya fue generada\n",
        "    if self.adj_list:\n",
        "      for n in range(0,len(self.adj_list)):\n",
        "        print(self.adj_list[n].name)\n",
        "        for i in self.adj_list[n].links:\n",
        "          print(\"-->\",i[0].name)\n",
        "\n",
        "vertex1 = ['A','B','C','D','E','F','G','H']\n",
        "edges1 = [['A','B',-1],['A','E',-1],['B','A',-1],['B','F',-1],['C','F',-1],['C','G',-1],['C','D',-1],['D','C',-1],['D','G',-1],['D','H',-1],\n",
        "          ['E','A',-1],['F','B',-1],['F','C',-1],['F','G',-1],['G','F',-1],['G','C',-1],['G','H',-1],['G','D',-1],['H','G',-1],['H','D',-1]]\n",
        "         \n",
        "vertex2 = ['A','B','C','D','E','F']\n",
        "edges2 = [['A','B',1],['A','D',1],['B','E',1],['C','E',1],['C','F',1],['D','B',1],['E','D',1],['F','F',1]]\n",
        "\n",
        "vertex3 = ['A','B','C','D','E','F','G','H','I']\n",
        "edges3 = [['A','B',4],['A','H',8],['B','A',4],['B','H',11],['B','C',8],['C','B',8],['C','D',7],['C','I',2],['C','F',4],['D','C',7],\n",
        "          ['D','E',9],['D','F',14],['E','D',9],['E','F',10],['F','C',4],['F','D',14],['F','E',10],['F','G',2],['G','F',2],['G','I',6],\n",
        "          ['G','H',1],['H','G',1],['H','I',7],['H','B',11],['H','A',8],['I','C',2],['I','G',6],['I','H',7]]\n",
        "\n",
        "graph1 = Graph(vertex1,edges1)\n",
        "graph1.create_AdjList()\n",
        "print(\"\\n\")\n",
        "graph1.print_AdjList()\n",
        "print(\"\\n\")\n",
        "print(\"\\n\")\n",
        "graph2 = Graph(vertex2,edges2)\n",
        "graph2.create_AdjList()\n",
        "print(\"\\n\")\n",
        "graph2.print_AdjList()\n",
        "print(\"\\n\")\n",
        "print(\"\\n\")\n",
        "graph3 = Graph(vertex3,edges3)\n",
        "graph3.create_AdjList()\n",
        "print(\"\\n\")\n",
        "graph3.print_AdjList()"
      ],
      "execution_count": null,
      "outputs": []
    },
    {
      "cell_type": "markdown",
      "metadata": {
        "id": "ieRCRJzlLAkP",
        "colab_type": "text"
      },
      "source": [
        "### **Búsqueda en anchura**\n",
        "#### Planteamiento del problema\n",
        "El objetivo o la problemática con respecto a la búsqueda en anchura, es programar un algoritmo que atraviese un grafo comenzando desde cualquier vertice perteneciente al mismo que haya sido seleccionado, atravesando el grafo por niveles o capas, hasta llegar a los nodos más alejados con respecto al vertice de referencia.\n",
        "#### Solución propuesta\n",
        "La solución propuesta para el algoritmo de búsqueda en anchura es una función que, a partir de un grafo y un vertice del mismo, genere un nuevo grafo, un árbol, cuyas ramificaciones representen las capas del grafo original.\n",
        "#### Definición del problema\n",
        "Para poder llevar a la realidad la solución propuesta, es necesario plantear un algorimo que aproveche las estructuras *Graph* y *Node* no solo para crear el arbol de búsqueda en anchura sino también para recorrer el grafo original. Abajo se muestra el pseudocósigo de la implemenación de la propuesta de solución, el algoritmo recibe como argumentos de entrada al grafo del cuál se obtendrá su árbol de búsqueda en anchura, y el nodo a partir del cuál se comenzará tal búsqueda. \\\\\n",
        "El algoritmo inmediatamente crea una instancia de la clase Graph, sin argumentos de entrada, después, con el método *Add_v* se añadirá al atributo *V* del nuevo árbol, el nombre de todos los vertices del grafo original. A continuación, el estado de todos los vertices del grafo original se establecen como desconocidos excepto el original, que se establecerá como descubierto. Gracias al atributo links de cada vertice, que guarda los nodos adyacentes, primero se revisa cada nodo adyacente a la raíz, la cual será el primer nodo a analizar, y se guardan en una cola para ser analizados después, cada nodo adyacente al nodo analizado será marcado como descubierto, y una vez que un nodo pase a ser analizado, su estado cambiará a conocido. \\\\\n",
        "La raíz sera el nivel cero del árbol, todos los nodos adyacentes a la raíz serán el nivel 1, los adyacentes a los adyacentes serán el nivel 2 y así consecutivamente. Cada que un nodo es descubierto, se guarda el nivel al que pertenece en una lista, y al atributo *E* del árbol de búsqueda se le añade la arista por el cual el nodo ha sido descubierto, por medio del método *Add_e*.\\\\\n",
        "Una vez todos los nodos han sido analizados, ya se tienen todas las aristas del árbol de búsqueda y también el nivel al que pertenecen todos los nodos. De tal forma que ya es posible crear la lista de adyacencia con el método *create_AdjList*, y asignar a cada nodo del atributo *adj_list* del árbol de búsqueda el nivel al que pertenece, es decir, asignar al atributo *tier* de cada nodo, el valor que le corresponde.\n",
        "\n",
        "```\n",
        "BFS(G,s)\n",
        "  new Graph() bfs_tree    // Creates new empty tree\n",
        "  for each u in adj_list of G //Initializes all atributes needed\n",
        "    add u to V of bfs_tree\n",
        "    if u is not s\n",
        "      state of u is \"unknown\"\n",
        "      tier of u is 0\n",
        "  state of s is \"discovered\"\n",
        "  tier of s is 0\n",
        "  tiers is [ ] \n",
        "  queue is [ ] \n",
        "  push s into queue\n",
        "  while queue is not empty //Analyzes each vertex of the original Graph\n",
        "    pop w from queue \n",
        "    for each v adjacent to w  //Checks every vertex adjacent to the current vertex that is being analyzed\n",
        "      if state of v is \"unknown\" //If it was a non checked at all vertex, it is added as a new edge and tier for it is set\n",
        "        state of v is \"discovered\"\n",
        "        tier of v is tier of w +1\n",
        "        add tier of v to tiers\n",
        "        add [w name, v name, weight between w and v] to E of bfs_tree\n",
        "        push v into queue\n",
        "    state of w is \"known\"\n",
        "  create adj_list of bfs_tree //Creates Adjacency List of the tree once analysis is finished\n",
        "  for each r in adj_list of bfs_tree // Sets the root of the new tree\n",
        "    for each e in tiers_list\n",
        "      if name of r is name in e\n",
        "        tier of r is tier in e\n",
        "    if name of r is name of s\n",
        "      root of bfs_tree is r\n",
        "  return bfs_tree\n",
        "```\n",
        "\n"
      ]
    },
    {
      "cell_type": "markdown",
      "metadata": {
        "id": "_C1QKdzpYY6C",
        "colab_type": "text"
      },
      "source": [
        "El tiempo de ejecución de éste algoritmo es de $O(|V|^2)$, ya que, en el peor de los casos, cada vertice analizado para generar el árbol, sera adyacente a todos los demás vertices, inclusive a sí mismo. A continuación se muestra el código escrito en Python 3, para implementar éste algoritmo. Seguido de éste, se propone un código de muestra para obtener un árbol de búsqueda en anchura a partir del grafo *graph1*, creado en la sección anterior."
      ]
    },
    {
      "cell_type": "markdown",
      "metadata": {
        "id": "BmjHmef9HlzO",
        "colab_type": "text"
      },
      "source": [
        "### Breadth First Search"
      ]
    },
    {
      "cell_type": "code",
      "metadata": {
        "id": "A3XBRGfxIJVl",
        "colab_type": "code",
        "outputId": "79ffaf5b-8783-4dab-eb30-0d33859b1d71",
        "colab": {
          "base_uri": "https://localhost:8080/",
          "height": 1258
        }
      },
      "source": [
        "def BFS(G,s):\n",
        "  bfs_tree = Graph()\n",
        "  bfs_tree.E = []\n",
        "  bfs_tree.V = []\n",
        "  tiers_list = []\n",
        "  for u in G.adj_list: #El estado de los nodos del grafo original se inicializa\n",
        "    bfs_tree.Add_v(u.name)\n",
        "    if u is not s:\n",
        "      u.state = \"unknown\"\n",
        "      u.tier = 0\n",
        "  s.state = \"discovered\"\n",
        "  s.tier = 0\n",
        "  adjs_queue = []\n",
        "  adjs_queue.insert(0,s)\n",
        "  while adjs_queue: #Se analizan todos los nodos del grafo original\n",
        "    w = adjs_queue.pop()\n",
        "    print(\"Analizando nodo \",w.name)\n",
        "    for v in w.links: #De cada nodo analizado se revisan los nodos que son adyacentes a él, dandoles a estos una capa o nivel\n",
        "      if v[0].state == \"unknown\":\n",
        "        v[0].state = \"discovered\"\n",
        "        v[0].tier = w.tier+1\n",
        "        tiers_list.append([v[0].name,v[0].tier])\n",
        "        bfs_tree.Add_e([w.name,v[0].name,v[1]])\n",
        "        bfs_tree.Add_e([v[0].name,w.name,v[1]])\n",
        "        adjs_queue.insert(0,v[0])\n",
        "        print(\"Nodo \",v[0].name,\" descubierto\")\n",
        "    w.state = \"known\"\n",
        "    print(\"Nodo \",w.name,\" terminado\")\n",
        "  bfs_tree.create_AdjList()\n",
        "  for r in bfs_tree.adj_list: #Al nuevo árbol se le asigna su raíz como el nodo del cual partió el análisis\n",
        "    for e in tiers_list:\n",
        "      if r.name == e[0]:\n",
        "        r.tier = e[1]\n",
        "    if r.name == s.name:\n",
        "      bfs_tree.root = r\n",
        "  return bfs_tree\n",
        "\n",
        "bfs_of_graph = BFS(graph1,graph1.adj_list[1])\n",
        "print(\"\\n\\n\")\n",
        "print(\"Raíz del árbol BFS: \",bfs_of_graph.root.name,\"\\n\\n\")\n",
        "bfs_of_graph.print_AdjList()"
      ],
      "execution_count": null,
      "outputs": []
    },
    {
      "cell_type": "markdown",
      "metadata": {
        "id": "1RU-lrr_uxzc",
        "colab_type": "text"
      },
      "source": [
        "### **Búsqueda en profundidad**\n",
        "#### Planteamiento del problema\n",
        "El objetivo o la problemática con respecto a la búsqueda en profundidad, es programar un algoritmo capaz de atravesar un grafo comenzando desde un vertice elegido como raíz, atravesando el grafo desde la raíz hasta el nodo más alejado posible, y así con cada camino posible hasta haber pasado por cada vertice. Generando un conjunto de marcas para indicar el paso en que cada grafo es atravesado.\n",
        "#### Solución propuesta\n",
        "La solución propuesta para el algoritmo de búsqueda en profundidad es una función, llamada *DFS* que estalezca las marcas resultantes de la búsqueda, tales marcas serían los valores del atributo *time_stamps* de cadanodo perteneciente al grafo.\n",
        "#### Definición del problema\n",
        "Para poder llevar a la realidad la solución propuesta, es necesario plantear un algorimo que aproveche las estructuras *Graph* y *Node* para hacer la búsqueda y poder definir los valores de *time_stamps*. Se utiliza el atributo *time* del grafo como punto de referencia para la búsqueda.\\\\\n",
        "El algoritmo explora a partir de cada nodo descubierto hasta el último nodo desconocido alcanzable a partir de éste, con ayuda de el atributo *links* de cada vertice. Asignando la primera marca en el momeno en que el nodo es descubierto y la segunda una vez que se ha terminado de explorar desde tal nodo. La exploración se realiza a través de la recursión de una función anidada a la función principal, llamada *DFS_From*.\n",
        "```\n",
        "DFS(G)\n",
        "  time is 0  // time of the graph is set to zero\n",
        "  for each u in adj_list of G // Initializes all attributes needed\n",
        "    state of u is \"unknown\"\n",
        "    time_stamps of u are [0,0]\n",
        "  for each u in adj_list of G  // Checks every vertex of the graph\n",
        "    if state of u is \"unknown\"\n",
        "      DFS_From(u) \n",
        "  for each v in  adj_list of G\n",
        "    print(v.name,\" timestamps: \",v.time_stamps)\n",
        "  DFS_From(s) // Subfunction, all unknown vertex are set as discovered here and the time when they are discovered is added to their timestamps\n",
        "    time is time + 1\n",
        "    1st time_stamp of s is time\n",
        "    state of s is \"discovered\"\n",
        "    for each v in links of s\n",
        "      if state of v is \"unknown\"\n",
        "        DFS_From(v) //Each vertex discovered causes the beginning of a new analysis\n",
        "    state of s is \"known\"\n",
        "    time is time + 1\n",
        "    2nd time_stamp of s is time\n",
        "```\n",
        "El tiempo de ejecución de éste algoritmo es de $O(|V|+|E|)$, ya que cada vertice será revisado solo una vez, revisando cada uno de sus vertices adyacentes, es decir, revisando cada arista. Abajo se muestra la implementación en lenguaje Python de la solución propuesta del algoritmo, seguido de instrucciones para su aplicación en graph2, grafo generado previamente."
      ]
    },
    {
      "cell_type": "markdown",
      "metadata": {
        "id": "U6MHgr9D_6Go",
        "colab_type": "text"
      },
      "source": [
        "### Depth First Search"
      ]
    },
    {
      "cell_type": "code",
      "metadata": {
        "id": "DJR1tYXlAVYk",
        "colab_type": "code",
        "outputId": "0ffb2843-b38d-4f88-c12f-506a885edc36",
        "colab": {
          "base_uri": "https://localhost:8080/",
          "height": 272
        }
      },
      "source": [
        "def DFS(G):\n",
        "  G.time = 0\n",
        "  for u in G.adj_list:\n",
        "    u.state = \"unknown\"\n",
        "    u.time_stamps = [0,0]\n",
        "  def DFS_From(s): #Cada nodo hayado llama a esta función donde se actualiza el tiempo y se dan valores a sus marcas\n",
        "    G.time = G.time + 1\n",
        "    s.time_stamps[0] = G.time\n",
        "    s.state = \"discovered\"\n",
        "    for v in s.links:\n",
        "      if v[0].state == \"unknown\":\n",
        "        print(\"Node \",v[0].name,\" descubierto a partir de \",s.name)\n",
        "        DFS_From(v[0]) #Cada nodo hayado provoca unanueva búsqueda que comienza a partir de él mismo\n",
        "    s.state = \"known\"\n",
        "    G.time = G.time + 1\n",
        "    s.time_stamps[1] = G.time\n",
        "  for u in G.adj_list: #Aqui comienza la búsqueda\n",
        "    if u.state == \"unknown\":\n",
        "      print(\"Node \",u.name,\" descubierto\")\n",
        "      DFS_From(u) \n",
        "  print(\"\\n\\n\")\n",
        "  for v in G.adj_list: #Se imprimen las marcas dadas a cada nodo del grafo que llamo a la función\n",
        "    print(v.name,\" timestamps: \",v.time_stamps)\n",
        "\n",
        "DFS(graph2)"
      ],
      "execution_count": null,
      "outputs": []
    },
    {
      "cell_type": "markdown",
      "metadata": {
        "colab_type": "text",
        "id": "s5z1SetbBWgd"
      },
      "source": [
        "### **Arbol recubridor mínimo - Algoritmo de Prim**\n",
        "#### Planteamiento del problema\n",
        "El objetivo o la problemática con respecto este algoritmo es lograr generar un árbol a partir de un grafo dado. Éste árbol debe contener a todos los vertices del grafo original, ofreciendo el camino más corto posible a cada uno de ellos a partir de un nodo elegido como raíz.\\\\\n",
        "Tal objetivo debe ser alcanzado a través del enfoque utilizado en el algoritmo de Prim, basado en explorar vertice por vertice, actualizando el camino más ligero para cada vertice.\n",
        "#### Solución propuesta\n",
        "La solución propuesta para el algoritmo es una función llamada *MST_Prim*, que aplique el enfoque propuesto por Prim para generar un árbol recubridor mínimo con la estructura *Graph* y la estructura *Node*. \n",
        "#### Definición del problema\n",
        "Para poder llevar a la realidad la solución propuesta, es necesario plantear un algorimo que aproveche las estructuras *Graph* y *Node* para generar un árbol recubridor mínimo. El algorimo crea la lista *leafs* con el nombre de todos los vertices del grafo que recibe como argumento de entrada. Se crea la lista *branches*, la cual será una lista de listas, cada sublista tendrá 3 elementos, el segundo elemento de cada sublista se inicializa con el nombre de cada nodo en el grafo, el primer elemento tendrá el nodo que forma parte del árbol y apunta al nodo denotado en el segundo elemento, para que éste también forme parte del árbol, el tercer elemento marca el peso o distancia entre nodo y nodo.\\\\\n",
        "Los valores en el  primer y tercer elemento de cada sublista de *branches* se actualizarán, cada nodo será analizado, siempre que se encuentre un nodo que ofrezca una mejor ruta, esa lista será actualizada. El único elemento de *branches* al que ningún nodo apuntará será el primero en ser analizado, éste se considerará la raíz del árbol y depende del orden en el que los elementos salgan de la cola utilizada para reconocer a los nodos explorados de los no explorados.\\\\\n",
        "Una vez analizados todos los vertices, se eliminará de *branches* la sublista de la raíz. Los demás elementos de la lista serán aristas de un grafi dirigido que conecta todos los nodos del grafo original, un árbol recbridor mínimo. Los elemenos de *branches* serán duplicados con las coordenadas invertidas, esto permitirá utilizar *leafs* y *branches* como argumentos de entrada para crear un grafo no dirigido que será el árbol recubridor mínimo del grafo original. A continuación se muestra el pseudocódigo del algoritmo diseñado.\n",
        "```\n",
        "MST_Prim(G)\n",
        "  queue is []\n",
        "  leafs is []\n",
        "  branches is []\n",
        "  for each u in adj_list of G //Initializes all attributes and variables needed\n",
        "    add name of u to leafs\n",
        "    add [NULL, name of u,-1] to branches\n",
        "    push u into queue\n",
        "  origin is 1st node in queue\n",
        "  while queue is not empty //Analyzes every node of the original graph\n",
        "    pop u from queue\n",
        "    for each v in adjacent to u //Checks for updates to every vertex adjacent to the one that is currently being analyzed\n",
        "      temp is get_weight(name of v)\n",
        "      if v in queue and temp is -1 or weight in v < temp // If a better path is found or a vertex that was not checked yet, an update is made\n",
        "        for each l in branches\n",
        "          if 2nd name in l is name of v\n",
        "            1st name in l is name of u\n",
        "            weight in l is weight in v\n",
        "  remove [NULL, name of origin, -1] from branches // Extra edge is removed\n",
        "  temp is []\n",
        "  for each b in branches //Edges are duplicated with coordinates backwards to ensure a nondirected tree\n",
        "    add [2nd name in b, 1st name in b, weight of b] to temp\n",
        "  branches is branches union temp\n",
        "  new Graph(leafs,branches) A //new minimum spanning tree is created \n",
        "  create adj_list of A\n",
        "  for each r in adj_list of A //Root for the tree is set\n",
        "    if name of r is name of origin\n",
        "      root of A is r\n",
        "  get_weight(leaf) //Subfunction to get the current weight of a path\n",
        "    for each l in branches\n",
        "      if leaf is 2nd name in l\n",
        "        weight is weight in l\n",
        "    return weight\n",
        "  return A\n",
        "```\n",
        "El tiempo de ejecución de éste algoritmo es de $O(|V|^4)$, pues el algoritmo implementa 3 ciclos anidados, el primero recorre queue, que contiene a todos los vertices, el siguiente recorre todas las aristas, que en el peor de los casos serán igual a $|V|^2$, el tercero recorre *branches*, que tiene un tamaño de $|V|$. La implementación del algoritmo diseñado se muestra a continuación."
      ]
    },
    {
      "cell_type": "markdown",
      "metadata": {
        "id": "TnJqo5zRl2-B",
        "colab_type": "text"
      },
      "source": [
        "### Minimum Spanning Tree - Prim Algorithm"
      ]
    },
    {
      "cell_type": "code",
      "metadata": {
        "id": "X-2R9itcmAuU",
        "colab_type": "code",
        "outputId": "890e75bc-c068-4828-85b3-ae84de17565a",
        "colab": {
          "base_uri": "https://localhost:8080/",
          "height": 1275
        }
      },
      "source": [
        "def MST_Prim(G):\n",
        "  def get_weight(leaf): #Subfunción para obtener el peso actual de cierta arista \n",
        "    for l in branches:\n",
        "      if leaf == l[1]:\n",
        "        weight = l[2]\n",
        "    return weight\n",
        "  queue = []\n",
        "  leafs = []\n",
        "  branches = []\n",
        "  for u in G.adj_list: #Se crea la lista de verticespara elnuevo árbol y una lista para guardar qué nodo apunta a qué nodo en el árbol\n",
        "    leafs.append(u.name)\n",
        "    branches.append([None,u.name,-1])\n",
        "    queue.append(u)\n",
        "  origin = queue[-1]\n",
        "  while queue: #Se analizan los nodos adyacentes de cada nodo del grafo original\n",
        "    u = queue.pop()\n",
        "    print(u.name,\" out\")\n",
        "    for v in u.links:\n",
        "      temp = get_weight(v[0].name)\n",
        "      if (v[0] in queue) and ((temp==-1) or (v[1] < temp)): #Si la distancia o peso es menor, o el nodo no tenía nada apuntandole, se actualizan las aristas del árbol\n",
        "        for l in branches:\n",
        "          if l[1] == v[0].name:\n",
        "            l[0] = u.name\n",
        "            l[2] = v[1]\n",
        "            print(\"Now \",l[0],\" points -> \",v[0].name,\" weigth: \",l[2])\n",
        "  branches.remove([None,origin.name,-1]) #Se retira la árista extra,perteneciente a la raíz\n",
        "  temp = []\n",
        "  for b in branches: #Se duplican las áristas creadas durante el análisis, pero con las coordenadas al revés para generar un árbol no dirigido\n",
        "    temp.append([b[1],b[0],b[2]])\n",
        "  branches = branches + temp\n",
        "  A = Graph(leafs,branches)\n",
        "  A.create_AdjList()\n",
        "  for r in A.adj_list:\n",
        "    if r.name == origin.name:\n",
        "      A.root = r\n",
        "  return A\n",
        "\n",
        "pmst_of_graph = MST_Prim(graph3)\n",
        "print(\"\\nPrim Minimum Spanning Tree root: \",pmst_of_graph.root.name,\"\\n\")\n",
        "pmst_of_graph.print_AdjList()"
      ],
      "execution_count": null,
      "outputs": []
    },
    {
      "cell_type": "markdown",
      "metadata": {
        "colab_type": "text",
        "id": "_4ok2L5Z20T2"
      },
      "source": [
        "### **Arbol recubridor mínimo - Algoritmo de Kruskal**\n",
        "#### Planteamiento del problema\n",
        "El objetivo o la problemática con respecto este algoritmo es, al igual que en la sección anterior, lograr generar un árbol recubridor mínimo a partir de un grafo dado. Éste árbol debe contener a todos los vertices del grafo original, ofreciendo el camino más corto posible a cada uno de ellos a partir de un nodo elegido como raíz.\\\\\n",
        "Tal objetivo debe ser alcanzado a través del enfoque utilizado en el algoritmo de Kruskal, basado en revisar arista por arista de manera ordenada.\n",
        "#### Solución propuesta\n",
        "La solución propuesta para el algoritmo es una función llamada *MST_Kruskal*, que aplique el enfoque propuesto por Kruskal para generar un árbol recubridor mínimo con la estructura *Graph* y la estructura *Node*. \n",
        "#### Definición del problema\n",
        "Para poder llevar a la realidad la solución propuesta, es necesario plantear un algorimo que aproveche las estructuras *Graph* y *Node* para generar un árbol recubridor mínimo. El algoritmo diseñado implementa el concepto de Kruskal creando una lista de listas *forest*, cada sublista contiene un solo elemento, un vertice del grafo original, esta lista se considera un conjunto de arboles formados por un solo nodo. Se analiza cada arista, de manera ordenada de acuerdo al peso o distancia entre los vertices que la conforman. Con ayuda de la subfunción *get_Tree* se revisa si los vertices que conforman a la arista analizada no pertenecen al mismo árbol, es decir, están en sublistas distintas; de ser así estás listas serán concatenadas y añadidas como un nuevo árbol a *forest*, continuando así hasta que exista un solo elemento dentro de la lista *forest*, siendo ésta la lista de vertices que servirá como argumento de entrada para crear el árbol recubridor mínimo.\\\\\n",
        "Al mismo tiempo que se crea la lista de vertices, cada que dos árboles se unen, se añade una sublista a la lista *branches*, que guarda los dos nodos que provocan la unión de los árboles, y la distancia o peso que hay entre ellos, al finalizar el análisis, *branches* contendrá a todas las aristas que componen al arbol recubridor mínimo. \\\\\n",
        "Al terminar el análisis un árbol es creado con el único elemento de *forest* y la lista *branches* como argumentos de entrada para la clas Graph. Para terminar, como ningún vertice es seleccionado de manera especial para ser la raíz, se elige como raíz del árbol recubridor mínimo a aquel que tiene más aristas o adyacencias. Todo lo descrito anteriormente se muestra a continuación en forma de pseudocódigo.\n",
        "```\n",
        "MST_Kruskal(G)\n",
        "  branches is []\n",
        "  forest is []\n",
        "  for each v in G\n",
        "    add name of v to forest\n",
        "  sort edges in E of G \n",
        "  for each e in E of G  //Checks edges of the original graph sorted in the previos line\n",
        "    if get_Tree(1st name in e) is not same get_Tree(2nd name in e) //If vertex belong to different trees they merge\n",
        "      tree1 is get_Tree(1st name in e)\n",
        "      tree2 is get_Tree(2nd name in e)\n",
        "      new_tree is tree1 union tree2\n",
        "      remove tree1 from forest\n",
        "      remove tree2 from forest\n",
        "      add new_tree to forest\n",
        "      add [1st name in e, 2nd name in e, weight of e] to branches\n",
        "      add [2nd name in e, 1st name in e, weight of e] to branches\n",
        "  new Graph(only tree of forest,branches) A //A new Tree is created once analysis is finished\n",
        "  create adj_list of A //Adjacency List of the new minimum spanning tree is created\n",
        "  temp is length of links in 1st node in adj_list of A //Root is set\n",
        "  origin is 1st node in adj_list of A\n",
        "  for each r in adj_list of A \n",
        "    if length of links in r > temp\n",
        "      origin is r\n",
        "      temp is length of links in r\n",
        "  root of A is origin\n",
        "  get_Tree(k) //Subfunction o get the tree to which node k belongs\n",
        "    for each t in forest\n",
        "      for each l in t\n",
        "        if l is k\n",
        "          tree is t\n",
        "    return tree\n",
        "  return A\n",
        "```\n"
      ]
    },
    {
      "cell_type": "markdown",
      "metadata": {
        "id": "Ui0bF0W2Y0pF",
        "colab_type": "text"
      },
      "source": [
        "El tiempo de ejecución de el algoritmo propuesto es de $O(|V|^3$, debido a que el algoritmo implementa un solo ciclo que recorre todos los vertices del grafo original, que en el peor de los casos, serán $|V|^2$ vertices, dentro de éste ciclo se implementa la subfunción *get_Tree*, la cual siempre realiza en promedio un total de $|V|$ comparaciones, pues a pesar tener dos ciclos anidados, la cantidad de comparaciones máxima de ambos será de V, pero cuando la cantidad de comparaciones del primer ciclo sea $|V|$, las comparaciones del segundo ciclo serán solo 1, cuándo la cantidad de comparaciones del segundo ciclo sea $|V|$, solo será necesario realizar 1 comparación en el primero. A continuación se presenta la implementación en Python del algoritmo diseñado."
      ]
    },
    {
      "cell_type": "markdown",
      "metadata": {
        "id": "tnpkdn-pcTUr",
        "colab_type": "text"
      },
      "source": [
        "### Minimum Spanning Tree - Kruskal Algorithm"
      ]
    },
    {
      "cell_type": "code",
      "metadata": {
        "id": "eezULEqTkeiR",
        "colab_type": "code",
        "outputId": "72d734f2-dcef-41e6-cb9d-53fba0d0568f",
        "colab": {
          "base_uri": "https://localhost:8080/",
          "height": 1037
        }
      },
      "source": [
        "def MST_Kruskal(G):\n",
        "  def get_Tree(k): #Subfunción para ver a qué árbol pertenece k\n",
        "    for i in forest:\n",
        "      for j in i:\n",
        "        if j == k:\n",
        "          tree = i\n",
        "    return tree\n",
        "  branches = []\n",
        "  forest = []\n",
        "  for v in G.adj_list: #Por cada nodo del grafo original, una sublista es creada para representar un arbol del bosque\n",
        "    forest.append([v.name])\n",
        "  G.E.sort(key=lambda x: x[2]) #Se ordena la lista de aristas en base a la distancia o peso de cada una\n",
        "  for e in G.E:  #Cada arista es revisada para ver si  los vertices que conectan ya partenecen al mismo árbol o no\n",
        "    if get_Tree(e[0]) is not get_Tree(e[1]): #Si los vertices son de árboles distintos, se unen en uno nuevo\n",
        "      tree1 = get_Tree(e[0])\n",
        "      tree2 = get_Tree(e[1])\n",
        "      new_tree = tree1 + tree2\n",
        "      print(tree1,\" and \",tree2,\" merged into \",new_tree)\n",
        "      forest.remove(tree1)\n",
        "      forest.remove(tree2)\n",
        "      forest.append(new_tree)\n",
        "      branches.append([e[0],e[1],e[2]])\n",
        "      branches.append([e[1],e[0],e[2]])\n",
        "  A = Graph(forest[0],branches) #El árbol recubridor mínimo es generado\n",
        "  A.create_AdjList()\n",
        "  temp = len(A.adj_list[0].links) #Se elige raíz del árbol al nodo con más aristas\n",
        "  origin = A.adj_list[0] \n",
        "  for r in A.adj_list:\n",
        "    if len(r.links) > temp:\n",
        "      origin = r\n",
        "  A.root = origin\n",
        "  return A\n",
        "\n",
        "kmst_of_graph = MST_Kruskal(graph3)\n",
        "print(\"Kruskal Minimum Spanning Tree root: \",kmst_of_graph.root.name,\"\\n\")\n",
        "kmst_of_graph.print_AdjList()"
      ],
      "execution_count": null,
      "outputs": []
    },
    {
      "cell_type": "markdown",
      "metadata": {
        "id": "3l1AqzNrZQc_",
        "colab_type": "text"
      },
      "source": [
        "### **Conclusión**\n",
        "Los algoritmos implementados son buenas demostraciones del análisis de grafos. A pesar de que un poco más de trabajo podría haber permitido un diseño más eficiente en cuanto al tiempo de ejecución de los algoritmos, esto queda como posibles mejoras ah implementar, o por otro lado, el costo en memoria podría ser disminuído, sin embargo el diseño propuesto hace el código más entendible. Los programas escritos para este proyecto pueden ser de gran útilidad para futuros trabajos, los grafos son estructuras de datos importantes en la programación, y los algoritmos para su análisis no son menos importantes."
      ]
    }
  ],
  "metadata": {
    "colab": {
      "name": "Proyecto Matemáticas Discretas",
      "provenance": [],
      "collapsed_sections": []
    },
    "kernelspec": {
      "name": "python3",
      "display_name": "Python 3"
    }
  },
  "nbformat": 4,
  "nbformat_minor": 0
}